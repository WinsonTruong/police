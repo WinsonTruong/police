{
 "cells": [
  {
   "cell_type": "markdown",
   "metadata": {},
   "source": [
    "# EDA of Stop and Frisk Data\n",
    "The goal of this notebook is to analyze stop and frisk data that is publicily available by the NYPD in aims to contribute to current events and work being done."
   ]
  },
  {
   "cell_type": "markdown",
   "metadata": {},
   "source": [
    "# Packages"
   ]
  },
  {
   "cell_type": "code",
   "execution_count": 1,
   "metadata": {},
   "outputs": [],
   "source": [
    "# Set Up\n",
    "import pandas as pd\n",
    "import numpy as np\n",
    "\n",
    "# These lines make warnings look nicer\n",
    "import warnings\n",
    "warnings.simplefilter('ignore', FutureWarning)\n",
    "\n",
    "# Graphing\n",
    "import matplotlib\n",
    "import matplotlib.pyplot as plt\n",
    "%matplotlib inline\n",
    "plt.style.use('fivethirtyeight')\n",
    "plt.rcParams['figure.figsize'] = (10,10)\n",
    "import seaborn as sns\n",
    "import plotly.express as px"
   ]
  },
  {
   "cell_type": "markdown",
   "metadata": {},
   "source": [
    "# Loading and Cleaning Data\n",
    "Our data comes from the NYPD's publicaly available stop, question, and frisk incidents. For now we will only look at 2019.\n",
    "\n",
    "Source: https://www1.nyc.gov/site/nypd/stats/reports-analysis/stopfrisk.page"
   ]
  },
  {
   "cell_type": "code",
   "execution_count": 2,
   "metadata": {},
   "outputs": [],
   "source": [
    "#!pip install xlrd\n",
    "raw = pd.read_excel('../data/sqf-2019.xlsx')"
   ]
  },
  {
   "cell_type": "markdown",
   "metadata": {},
   "source": [
    "Becuase there are 83 features and over 13000 records, I'm going to break this dataset into smaller dataframes, clean seperately, then re-aggregate via the unique identifier key 'STOP_ID_ANONY'.\n",
    "\n",
    "* location: describes the location of the SQF\n",
    "* officer: describes the title, appearance, and behaviors of the officer\n",
    "* suspect: describes the physical characteristics of the suspect\n",
    "* sentiment: contains descriptions of the suspect from the perspective of the officer, useful for sentiment analysis"
   ]
  },
  {
   "cell_type": "code",
   "execution_count": 13,
   "metadata": {},
   "outputs": [
    {
     "data": {
      "text/plain": [
       "(13459, 19)"
      ]
     },
     "execution_count": 13,
     "metadata": {},
     "output_type": "execute_result"
    }
   ],
   "source": [
    "location = raw[['STOP_ID_ANONY', 'STOP_FRISK_DATE', 'STOP_FRISK_TIME',\n",
    "                'YEAR2', 'MONTH2', 'DAY2','LOCATION_IN_OUT_CODE', 'JURISDICTION_CODE', \n",
    "                'JURISDICTION_DESCRIPTION', 'STOP_LOCATION_PRECINCT', 'STOP_LOCATION_SECTOR_CODE'\n",
    "                ,'STOP_LOCATION_APARTMENT','STOP_LOCATION_FULL_ADDRESS','STOP_LOCATION_STREET_NAME'\n",
    "                ,'STOP_LOCATION_X','STOP_LOCATION_Y','STOP_LOCATION_ZIP_CODE',\n",
    "                'STOP_LOCATION_PATROL_BORO_NAME','STOP_LOCATION_BORO_NAME']]\n",
    "location.shape\n",
    "#location.to_csv('../data/location.csv')"
   ]
  },
  {
   "cell_type": "code",
   "execution_count": 12,
   "metadata": {},
   "outputs": [
    {
     "data": {
      "text/plain": [
       "(13459, 9)"
      ]
     },
     "execution_count": 12,
     "metadata": {},
     "output_type": "execute_result"
    }
   ],
   "source": [
    "officer = raw[['STOP_ID_ANONY', 'ISSUING_OFFICER_RANK', 'ISSUING_OFFICER_COMMAND_CODE','SUPERVISING_OFFICER_RANK'\n",
    "               ,'SUPERVISING_OFFICER_COMMAND_CODE','OFFICER_IN_UNIFORM_FLAG','ID_CARD_IDENTIFIES_OFFICER_FLAG'\n",
    "               ,'SHIELD_IDENTIFIES_OFFICER_FLAG','VERBAL_IDENTIFIES_OFFICER_FLAG']]\n",
    "officer.shape\n",
    "#officer.to_csv('../data/officer.csv')"
   ]
  },
  {
   "cell_type": "code",
   "execution_count": 14,
   "metadata": {},
   "outputs": [],
   "source": [
    "suspect = raw[['STOP_ID_ANONY','SUSPECTED_CRIME_DESCRIPTION', 'SUSPECT_ARRESTED_FLAG',\n",
    "              'FRISKED_FLAG','SEARCHED_FLAG','ASK_FOR_CONSENT_FLG'\n",
    "               ,'CONSENT_GIVEN_FLG','OTHER_CONTRABAND_FLAG','FIREARM_FLAG'\n",
    "               ,'KNIFE_CUTTER_FLAG','OTHER_WEAPON_FLAG','WEAPON_FOUND_FLAG'\n",
    "               ,'SUSPECTS_ACTIONS_CASING_FLAG','SUSPECTS_ACTIONS_CONCEALED_POSSESSION_WEAPON_FLAG'\n",
    "               ,'SUSPECTS_ACTIONS_DECRIPTION_FLAG','SUSPECTS_ACTIONS_DRUG_TRANSACTIONS_FLAG'\n",
    "               ,'SUSPECTS_ACTIONS_IDENTIFY_CRIME_PATTERN_FLAG','SUSPECTS_ACTIONS_LOOKOUT_FLAG'\n",
    "               ,'SUSPECTS_ACTIONS_OTHER_FLAG','SUSPECTS_ACTIONS_PROXIMITY_TO_SCENE_FLAG'\n",
    "               ,'SUSPECT_REPORTED_AGE','SUSPECT_SEX','SUSPECT_RACE_DESCRIPTION'\n",
    "               ,'SUSPECT_HEIGHT','SUSPECT_WEIGHT','SUSPECT_BODY_BUILD_TYPE'\n",
    "               ,'SUSPECT_EYE_COLOR','SUSPECT_HAIR_COLOR']]\n",
    "suspect.shape\n",
    "#suspect.to_csv('../data/suspect.csv')"
   ]
  },
  {
   "cell_type": "code",
   "execution_count": 10,
   "metadata": {},
   "outputs": [
    {
     "data": {
      "text/plain": [
       "(13459, 5)"
      ]
     },
     "execution_count": 10,
     "metadata": {},
     "output_type": "execute_result"
    }
   ],
   "source": [
    "sentiment = raw[['STOP_ID_ANONY', 'OFFICER_NOT_EXPLAINED_STOP_DESCRIPTION', \n",
    "                 'OFFICER_NOT_EXPLAINED_STOP_DESCRIPTION',\n",
    "                 'DEMEANOR_OF_PERSON_STOPPED', 'SUSPECT_OTHER_DESCRIPTION']]\n",
    "sentiment.shape\n",
    "#sentiment.to_csv('../data/sentiment.csv')"
   ]
  },
  {
   "cell_type": "markdown",
   "metadata": {},
   "source": [
    "The following code cell prints out the intital datatype assigned to each column by pandas import data function. Use at your own discretion "
   ]
  },
  {
   "cell_type": "markdown",
   "metadata": {},
   "source": [
    "# location.csv Change and Description Log\n",
    "The text below describes all the changes done via Tableau Prep:\n",
    "\n",
    "* replace (null) calues with Null (interpretable for python)\n",
    "* stripped unnecessary information from the STOP_FRISK_TIME via a RegEx split\n",
    "* removed Year, unnecessary\n",
    "\n",
    "### TODO: populate missing 'STOP_LOCATION_ZIP_CODE\" (>99% of the data is missing zipcode) with a reverse geocode, \n",
    "* 'STOP_LOCATION_FULL_ADDRESS' has one vague format 'streetname1 && streetname2' represent an intersection and another with the specific location\n",
    "\n",
    "* the remaining Null values in 'LOCATION_IN_AND_OUT', 'JURISDICTION_CODE' and 'JURISDICTION DESCRIPTION' are not worth the time investment to clean"
   ]
  },
  {
   "cell_type": "code",
   "execution_count": null,
   "metadata": {},
   "outputs": [],
   "source": []
  },
  {
   "cell_type": "markdown",
   "metadata": {},
   "source": [
    "# officer.csv Change and Description Log\n",
    "The text below describes all the changes done via Tableau Prep:\n",
    "* dropped 2 rows (STOP_ID 1164, 4549) due to missing rank\n",
    "* converted Y/N columns to 1/0 dummy columns"
   ]
  },
  {
   "cell_type": "markdown",
   "metadata": {},
   "source": [
    "# suspect.csv Change and Description Log\n",
    "The text below describes all the changes done via Tableau Prep:\n",
    "* dropped 417 rows due to poor clerical entry for dummy variable \n",
    "* converted Y/N columns to 1/0 dummy columns"
   ]
  },
  {
   "cell_type": "markdown",
   "metadata": {},
   "source": [
    "# sentiment.csv Change and Description Log\n",
    "The text below describes all the changes done via Tableau Prep:\n",
    "* dropped 171 rows due to missing values"
   ]
  },
  {
   "cell_type": "code",
   "execution_count": null,
   "metadata": {},
   "outputs": [],
   "source": []
  }
 ],
 "metadata": {
  "kernelspec": {
   "display_name": "Python 3",
   "language": "python",
   "name": "python3"
  },
  "language_info": {
   "codemirror_mode": {
    "name": "ipython",
    "version": 3
   },
   "file_extension": ".py",
   "mimetype": "text/x-python",
   "name": "python",
   "nbconvert_exporter": "python",
   "pygments_lexer": "ipython3",
   "version": "3.7.3"
  }
 },
 "nbformat": 4,
 "nbformat_minor": 4
}
