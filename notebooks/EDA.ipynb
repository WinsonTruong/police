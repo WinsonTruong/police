{
 "cells": [
  {
   "cell_type": "markdown",
   "metadata": {},
   "source": [
    "# EDA\n",
    "Now that our data has been cleaned, we can begin the EDA process. A significant portion of the EDA process was also done on Tableau so this notebook does not detail all work done.\n",
    "\n",
    "### Packages"
   ]
  },
  {
   "cell_type": "code",
   "execution_count": 2,
   "metadata": {},
   "outputs": [],
   "source": [
    "# Set Up\n",
    "import pandas as pd\n",
    "import numpy as np\n",
    "\n",
    "# Graphing\n",
    "import matplotlib\n",
    "import matplotlib.pyplot as plt\n",
    "%matplotlib inline\n",
    "plt.style.use('fivethirtyeight')\n",
    "plt.rcParams['figure.figsize'] = (10,10)\n",
    "import seaborn as sns\n",
    "import plotly as px\n"
   ]
  },
  {
   "cell_type": "markdown",
   "metadata": {},
   "source": [
    "## Loading Data\n",
    "I will be using the reaggregated (not one-hot encdoded) dataset from 'clean_and_impute.ipynb'"
   ]
  },
  {
   "cell_type": "code",
   "execution_count": 3,
   "metadata": {},
   "outputs": [],
   "source": [
    "sqf = pd.read_csv('../data/cleaned_reagg.csv').drop('Unnamed: 0', axis = 1)\n"
   ]
  },
  {
   "cell_type": "markdown",
   "metadata": {},
   "source": [
    "### Exploring officers by their title/rank"
   ]
  },
  {
   "cell_type": "code",
   "execution_count": 4,
   "metadata": {},
   "outputs": [],
   "source": [
    "# observing consent and weapon dummies by rank\n",
    "officer = sqf.groupby('issuing_officer_rank')['consent_given_flg','ask_for_consent_flg','weapon_found_flag'].agg('sum')\n",
    "\n",
    "# counting total officers by rank\n",
    "sqf_by_rank =  sqf.groupby('issuing_officer_rank').agg('count').iloc[:,0]\n",
    "\n",
    "#combining\n",
    "by_officer = pd.concat([sqf_by_rank, officer], axis = 1).rename({'stop_id_anony': 'total'}, axis = 1)"
   ]
  },
  {
   "cell_type": "code",
   "execution_count": 5,
   "metadata": {},
   "outputs": [
    {
     "data": {
      "text/html": [
       "<div>\n",
       "<style scoped>\n",
       "    .dataframe tbody tr th:only-of-type {\n",
       "        vertical-align: middle;\n",
       "    }\n",
       "\n",
       "    .dataframe tbody tr th {\n",
       "        vertical-align: top;\n",
       "    }\n",
       "\n",
       "    .dataframe thead th {\n",
       "        text-align: right;\n",
       "    }\n",
       "</style>\n",
       "<table border=\"1\" class=\"dataframe\">\n",
       "  <thead>\n",
       "    <tr style=\"text-align: right;\">\n",
       "      <th></th>\n",
       "      <th>total</th>\n",
       "      <th>consent_given_flg</th>\n",
       "      <th>ask_for_consent_flg</th>\n",
       "      <th>weapon_found_flag</th>\n",
       "      <th>Success Rate</th>\n",
       "    </tr>\n",
       "    <tr>\n",
       "      <th>issuing_officer_rank</th>\n",
       "      <th></th>\n",
       "      <th></th>\n",
       "      <th></th>\n",
       "      <th></th>\n",
       "      <th></th>\n",
       "    </tr>\n",
       "  </thead>\n",
       "  <tbody>\n",
       "    <tr>\n",
       "      <th>CPT</th>\n",
       "      <td>12</td>\n",
       "      <td>0.0</td>\n",
       "      <td>0.0</td>\n",
       "      <td>2.0</td>\n",
       "      <td>0.166667</td>\n",
       "    </tr>\n",
       "    <tr>\n",
       "      <th>DT2</th>\n",
       "      <td>6</td>\n",
       "      <td>3.0</td>\n",
       "      <td>3.0</td>\n",
       "      <td>1.0</td>\n",
       "      <td>0.166667</td>\n",
       "    </tr>\n",
       "    <tr>\n",
       "      <th>DTS</th>\n",
       "      <td>219</td>\n",
       "      <td>46.0</td>\n",
       "      <td>27.0</td>\n",
       "      <td>22.0</td>\n",
       "      <td>0.100457</td>\n",
       "    </tr>\n",
       "    <tr>\n",
       "      <th>LSA</th>\n",
       "      <td>10</td>\n",
       "      <td>3.0</td>\n",
       "      <td>1.0</td>\n",
       "      <td>1.0</td>\n",
       "      <td>0.100000</td>\n",
       "    </tr>\n",
       "    <tr>\n",
       "      <th>POM</th>\n",
       "      <td>11233</td>\n",
       "      <td>2301.0</td>\n",
       "      <td>1766.0</td>\n",
       "      <td>1048.0</td>\n",
       "      <td>0.093297</td>\n",
       "    </tr>\n",
       "    <tr>\n",
       "      <th>SGT</th>\n",
       "      <td>273</td>\n",
       "      <td>42.0</td>\n",
       "      <td>34.0</td>\n",
       "      <td>25.0</td>\n",
       "      <td>0.091575</td>\n",
       "    </tr>\n",
       "    <tr>\n",
       "      <th>DT3</th>\n",
       "      <td>96</td>\n",
       "      <td>23.0</td>\n",
       "      <td>17.0</td>\n",
       "      <td>8.0</td>\n",
       "      <td>0.083333</td>\n",
       "    </tr>\n",
       "    <tr>\n",
       "      <th>LT</th>\n",
       "      <td>97</td>\n",
       "      <td>15.0</td>\n",
       "      <td>10.0</td>\n",
       "      <td>8.0</td>\n",
       "      <td>0.082474</td>\n",
       "    </tr>\n",
       "    <tr>\n",
       "      <th>POF</th>\n",
       "      <td>1403</td>\n",
       "      <td>295.0</td>\n",
       "      <td>251.0</td>\n",
       "      <td>96.0</td>\n",
       "      <td>0.068425</td>\n",
       "    </tr>\n",
       "    <tr>\n",
       "      <th>DT1</th>\n",
       "      <td>2</td>\n",
       "      <td>1.0</td>\n",
       "      <td>1.0</td>\n",
       "      <td>0.0</td>\n",
       "      <td>0.000000</td>\n",
       "    </tr>\n",
       "    <tr>\n",
       "      <th>INS</th>\n",
       "      <td>1</td>\n",
       "      <td>0.0</td>\n",
       "      <td>0.0</td>\n",
       "      <td>0.0</td>\n",
       "      <td>0.000000</td>\n",
       "    </tr>\n",
       "    <tr>\n",
       "      <th>LCD</th>\n",
       "      <td>1</td>\n",
       "      <td>0.0</td>\n",
       "      <td>0.0</td>\n",
       "      <td>0.0</td>\n",
       "      <td>0.000000</td>\n",
       "    </tr>\n",
       "    <tr>\n",
       "      <th>SDS</th>\n",
       "      <td>1</td>\n",
       "      <td>0.0</td>\n",
       "      <td>0.0</td>\n",
       "      <td>0.0</td>\n",
       "      <td>0.000000</td>\n",
       "    </tr>\n",
       "    <tr>\n",
       "      <th>SSA</th>\n",
       "      <td>9</td>\n",
       "      <td>3.0</td>\n",
       "      <td>0.0</td>\n",
       "      <td>0.0</td>\n",
       "      <td>0.000000</td>\n",
       "    </tr>\n",
       "  </tbody>\n",
       "</table>\n",
       "</div>"
      ],
      "text/plain": [
       "                      total  consent_given_flg  ask_for_consent_flg  \\\n",
       "issuing_officer_rank                                                  \n",
       "CPT                      12                0.0                  0.0   \n",
       "DT2                       6                3.0                  3.0   \n",
       "DTS                     219               46.0                 27.0   \n",
       "LSA                      10                3.0                  1.0   \n",
       "POM                   11233             2301.0               1766.0   \n",
       "SGT                     273               42.0                 34.0   \n",
       "DT3                      96               23.0                 17.0   \n",
       "LT                       97               15.0                 10.0   \n",
       "POF                    1403              295.0                251.0   \n",
       "DT1                       2                1.0                  1.0   \n",
       "INS                       1                0.0                  0.0   \n",
       "LCD                       1                0.0                  0.0   \n",
       "SDS                       1                0.0                  0.0   \n",
       "SSA                       9                3.0                  0.0   \n",
       "\n",
       "                      weapon_found_flag  Success Rate  \n",
       "issuing_officer_rank                                   \n",
       "CPT                                 2.0      0.166667  \n",
       "DT2                                 1.0      0.166667  \n",
       "DTS                                22.0      0.100457  \n",
       "LSA                                 1.0      0.100000  \n",
       "POM                              1048.0      0.093297  \n",
       "SGT                                25.0      0.091575  \n",
       "DT3                                 8.0      0.083333  \n",
       "LT                                  8.0      0.082474  \n",
       "POF                                96.0      0.068425  \n",
       "DT1                                 0.0      0.000000  \n",
       "INS                                 0.0      0.000000  \n",
       "LCD                                 0.0      0.000000  \n",
       "SDS                                 0.0      0.000000  \n",
       "SSA                                 0.0      0.000000  "
      ]
     },
     "execution_count": 5,
     "metadata": {},
     "output_type": "execute_result"
    }
   ],
   "source": [
    "# Calculating a sucess rate\n",
    "by_officer['Success Rate'] = by_officer['weapon_found_flag'] / by_officer['total']\n",
    "\n",
    "\n",
    "by_officer = by_officer.sort_values('Success Rate', ascending = False)\n",
    "by_officer"
   ]
  },
  {
   "cell_type": "markdown",
   "metadata": {},
   "source": [
    "From this chart alone, I don't think its safe to analyze about groups other than DTS, POM, SGT, and POF because there isn't much data for the other groups. For now let's focus on those groups, as they are doing the majority of the SQF practioners and therefore given treatments will result in the most change in behaviors."
   ]
  },
  {
   "cell_type": "code",
   "execution_count": 6,
   "metadata": {},
   "outputs": [
    {
     "name": "stdout",
     "output_type": "stream",
     "text": [
      " Our subset is  98.24141285639453% of the total\n"
     ]
    },
    {
     "data": {
      "text/plain": [
       "POM    11233\n",
       "POF     1403\n",
       "SGT      273\n",
       "DTS      219\n",
       "Name: issuing_officer_rank, dtype: int64"
      ]
     },
     "execution_count": 6,
     "metadata": {},
     "output_type": "execute_result"
    }
   ],
   "source": [
    "officers_subset = sqf[(sqf['issuing_officer_rank'] == \"DTS\") | \n",
    "                      (sqf['issuing_officer_rank'] == \"SGT\") | \n",
    "                      (sqf['issuing_officer_rank'] == \"POF\") | \n",
    "                      (sqf['issuing_officer_rank'] == \"POM\")]\n",
    "\n",
    "print(f\" Our subset is  {(len(officers_subset)/len(sqf)) * 100}% of the total officers.\" )\n",
    "officers_subset['issuing_officer_rank'].value_counts()\n"
   ]
  },
  {
   "cell_type": "code",
   "execution_count": 73,
   "metadata": {},
   "outputs": [
    {
     "data": {
      "image/png": "[encoded data removed]",
      "text/plain": [
       "<Figure size 1440x720 with 2 Axes>"
      ]
     },
     "metadata": {},
     "output_type": "display_data"
    }
   ],
   "source": [
    "officer_relationship = pd.pivot_table(data = officers_subset, index = 'issuing_officer_rank',\n",
    "                                      values = 'frisked_flag', columns = 'supervising_officer_rank', aggfunc = 'count').fillna(0).astype(int)\n",
    "\n",
    "\n",
    "fig, ax = plt.subplots(figsize=(20, 10))\n",
    "heatmap = sns.heatmap(officer_relationship,  annot=True,  fmt='g')\n",
    "plt.title(\"Number of Frisks by Officer and Supervisor Rank\")\n",
    "plt.xlabel('Supervising Officer Rank')\n",
    "plt.ylabel('Issuing Officer Rank');"
   ]
  },
  {
   "cell_type": "markdown",
   "metadata": {},
   "source": [
    "There seems to be relationships between POM and their higher authorities which in general are Lieutenants (LT) and Sergeants (SGT). This makes sense as these groups are assumingly out on the field the most."
   ]
  },
  {
   "cell_type": "code",
   "execution_count": 45,
   "metadata": {},
   "outputs": [],
   "source": [
    "# sns.barplot(data = by_officer, x = by_officer.index, y = 'Success Rate')\n",
    "# plt.title('Success Rate of Officers Finding a Weapon by Position')\n",
    "# plt.ylabel('Success Rate')\n",
    "# plt.xlabel('Issuing Officer Rank');"
   ]
  }
 ],
 "metadata": {
  "kernelspec": {
   "display_name": "Python 3",
   "language": "python",
   "name": "python3"
  },
  "language_info": {
   "codemirror_mode": {
    "name": "ipython",
    "version": 3
   },
   "file_extension": ".py",
   "mimetype": "text/x-python",
   "name": "python",
   "nbconvert_exporter": "python",
   "pygments_lexer": "ipython3",
   "version": "3.7.3"
  }
 },
 "nbformat": 4,
 "nbformat_minor": 2
}
