{
 "cells": [
  {
   "cell_type": "markdown",
   "metadata": {},
   "source": [
    "# Models\n",
    "From the EDA, I was able to think of my dataset in terms of the officers, the suspects, and the location in which the stops happened. "
   ]
  },
  {
   "cell_type": "code",
   "execution_count": 1,
   "metadata": {},
   "outputs": [],
   "source": [
    "# Set Up\n",
    "import pandas as pd\n",
    "import numpy as np\n",
    "\n",
    "# These lines make warnings look nicer\n",
    "import warnings\n",
    "warnings.simplefilter('ignore', FutureWarning)\n",
    "\n",
    "# Graphing\n",
    "import matplotlib\n",
    "import matplotlib.pyplot as plt\n",
    "%matplotlib inline\n",
    "plt.style.use('fivethirtyeight')\n",
    "plt.rcParams['figure.figsize'] = (10,10)\n",
    "import seaborn as sns\n",
    "import plotly as px"
   ]
  },
  {
   "cell_type": "markdown",
   "metadata": {},
   "source": [
    "# Loading Data"
   ]
  },
  {
   "cell_type": "code",
   "execution_count": 2,
   "metadata": {},
   "outputs": [],
   "source": [
    "sqf = pd.read_csv('../data/cleaned_one_hot.csv').drop('Unnamed: 0', axis = 1)\n",
    "\n",
    "# Changing columns names to something more comprehendible \n",
    "sqf = sqf.rename({'Other1':'Other Hair', 'Other2':'Other Hair 2',\n",
    "                'Black.1': 'Black Eyes', 'Blue':'Blue Eyes',\n",
    "                'Brown':'Brown Eyes', 'Green':'Green Eyes',\n",
    "                'Gray': 'Gray Eyes', 'Hazel': 'Hazel Eyes',\n",
    "                'Multicolor': 'Multicolor Eyes', 'Other4': 'Other Eyes 4',\n",
    "                'Other5': 'Other Eyes 5', 'Other6':'Other Eyes 6'}, axis = 1)\n"
   ]
  },
  {
   "cell_type": "markdown",
   "metadata": {},
   "source": [
    "# Outline\n",
    "Outcome Variable: Frisking (1/0)\n",
    "\n",
    "Feature Sets\n",
    "1. race\n",
    "2. appearance (race + physical characteristics)\n",
    "3. full context (aforementioned + environmental influences)\n",
    "\n",
    "Models\n",
    "1. Logistic Regression (Baseline)\n",
    "2. Logistic Regression with Regularization (avoiding overfitting)\n",
    "3. SVM\n",
    "\n",
    "Statistics\n",
    "1. Accuracy\n",
    "2. Precision\n",
    "3. Recall\n",
    "\n",
    "Goal: a 3x9 table that describes all combinations of the models, featuresets, and statstics (see results.xlxs)\n",
    "\n",
    "Steps\n",
    "1. Wrangle the data to create my feature sets\n",
    "2. Describe the assumptions behind each model\n",
    "3. Run the function (generalizeable thanks to sklearn)\n",
    "4. Compile"
   ]
  },
  {
   "cell_type": "code",
   "execution_count": 18,
   "metadata": {},
   "outputs": [
    {
     "data": {
      "text/html": [
       "<div>\n",
       "<style scoped>\n",
       "    .dataframe tbody tr th:only-of-type {\n",
       "        vertical-align: middle;\n",
       "    }\n",
       "\n",
       "    .dataframe tbody tr th {\n",
       "        vertical-align: top;\n",
       "    }\n",
       "\n",
       "    .dataframe thead th {\n",
       "        text-align: right;\n",
       "    }\n",
       "</style>\n",
       "<table border=\"1\" class=\"dataframe\">\n",
       "  <thead>\n",
       "    <tr style=\"text-align: right;\">\n",
       "      <th></th>\n",
       "      <th>Accuracy</th>\n",
       "      <th>Precision</th>\n",
       "      <th>Recall</th>\n",
       "    </tr>\n",
       "  </thead>\n",
       "  <tbody>\n",
       "    <tr>\n",
       "      <th>Logistic</th>\n",
       "      <td>NaN</td>\n",
       "      <td>NaN</td>\n",
       "      <td>NaN</td>\n",
       "    </tr>\n",
       "    <tr>\n",
       "      <th>Logisitic + Regularization</th>\n",
       "      <td>NaN</td>\n",
       "      <td>NaN</td>\n",
       "      <td>NaN</td>\n",
       "    </tr>\n",
       "    <tr>\n",
       "      <th>SVM</th>\n",
       "      <td>NaN</td>\n",
       "      <td>NaN</td>\n",
       "      <td>NaN</td>\n",
       "    </tr>\n",
       "  </tbody>\n",
       "</table>\n",
       "</div>"
      ],
      "text/plain": [
       "                           Accuracy Precision Recall\n",
       "Logistic                        NaN       NaN    NaN\n",
       "Logisitic + Regularization      NaN       NaN    NaN\n",
       "SVM                             NaN       NaN    NaN"
      ]
     },
     "execution_count": 18,
     "metadata": {},
     "output_type": "execute_result"
    }
   ],
   "source": [
    "race = pd.DataFrame(columns = ['Accuracy', 'Precision', 'Recall'], \n",
    "                           index = ['Logistic', 'Logisitic + Regularization', 'SVM'])\n",
    "race"
   ]
  },
  {
   "cell_type": "markdown",
   "metadata": {},
   "source": [
    "# Frisked\n",
    "Let's build some classifers from the perspective of an officer. Would they frisk someone based off their appearance. Note appearance here means:\n",
    "* the suspect's perceived age\n",
    "* height\n",
    "* weight\n",
    "* gender \n",
    "* eye color\n",
    "* hair color\n",
    "\n",
    "Assumptions being made:\n",
    "1. The height and weight variables are perceived from the officer's perspective, even though it is most probable that the suspect's dimensions were asked/and or found from their ID card. "
   ]
  },
  {
   "cell_type": "code",
   "execution_count": 3,
   "metadata": {},
   "outputs": [
    {
     "data": {
      "text/html": [
       "<div>\n",
       "<style scoped>\n",
       "    .dataframe tbody tr th:only-of-type {\n",
       "        vertical-align: middle;\n",
       "    }\n",
       "\n",
       "    .dataframe tbody tr th {\n",
       "        vertical-align: top;\n",
       "    }\n",
       "\n",
       "    .dataframe thead th {\n",
       "        text-align: right;\n",
       "    }\n",
       "</style>\n",
       "<table border=\"1\" class=\"dataframe\">\n",
       "  <thead>\n",
       "    <tr style=\"text-align: right;\">\n",
       "      <th></th>\n",
       "      <th>suspect_reported_age</th>\n",
       "      <th>suspect_height</th>\n",
       "      <th>suspect_weight</th>\n",
       "      <th>female</th>\n",
       "      <th>Indian/Alaskan Native</th>\n",
       "      <th>Asian / Pacific Islander</th>\n",
       "      <th>Black</th>\n",
       "      <th>Black Hispanic</th>\n",
       "      <th>White</th>\n",
       "      <th>White Hispanic</th>\n",
       "      <th>...</th>\n",
       "      <th>Black Eyes</th>\n",
       "      <th>Blue Eyes</th>\n",
       "      <th>Brown Eyes</th>\n",
       "      <th>Green Eyes</th>\n",
       "      <th>Gray Eyes</th>\n",
       "      <th>Hazel Eyes</th>\n",
       "      <th>Multicolor Eyes</th>\n",
       "      <th>Other Eyes 4</th>\n",
       "      <th>Other Eyes 5</th>\n",
       "      <th>Other Eyes 6</th>\n",
       "    </tr>\n",
       "  </thead>\n",
       "  <tbody>\n",
       "    <tr>\n",
       "      <th>0</th>\n",
       "      <td>0.149670</td>\n",
       "      <td>-1.584505</td>\n",
       "      <td>1.959918</td>\n",
       "      <td>-0.31654</td>\n",
       "      <td>-0.022893</td>\n",
       "      <td>-0.151027</td>\n",
       "      <td>0.816726</td>\n",
       "      <td>-0.302753</td>\n",
       "      <td>-0.313526</td>\n",
       "      <td>-0.506003</td>\n",
       "      <td>...</td>\n",
       "      <td>-0.328839</td>\n",
       "      <td>-0.121374</td>\n",
       "      <td>0.445264</td>\n",
       "      <td>-0.082345</td>\n",
       "      <td>-0.044996</td>\n",
       "      <td>-0.089843</td>\n",
       "      <td>-0.012235</td>\n",
       "      <td>-0.019347</td>\n",
       "      <td>-0.012235</td>\n",
       "      <td>-0.193024</td>\n",
       "    </tr>\n",
       "    <tr>\n",
       "      <th>1</th>\n",
       "      <td>-0.522443</td>\n",
       "      <td>-1.584505</td>\n",
       "      <td>0.728901</td>\n",
       "      <td>-0.31654</td>\n",
       "      <td>-0.022893</td>\n",
       "      <td>-0.151027</td>\n",
       "      <td>0.816726</td>\n",
       "      <td>-0.302753</td>\n",
       "      <td>-0.313526</td>\n",
       "      <td>-0.506003</td>\n",
       "      <td>...</td>\n",
       "      <td>-0.328839</td>\n",
       "      <td>-0.121374</td>\n",
       "      <td>0.445264</td>\n",
       "      <td>-0.082345</td>\n",
       "      <td>-0.044996</td>\n",
       "      <td>-0.089843</td>\n",
       "      <td>-0.012235</td>\n",
       "      <td>-0.019347</td>\n",
       "      <td>-0.012235</td>\n",
       "      <td>-0.193024</td>\n",
       "    </tr>\n",
       "    <tr>\n",
       "      <th>2</th>\n",
       "      <td>2.334039</td>\n",
       "      <td>0.583603</td>\n",
       "      <td>2.575427</td>\n",
       "      <td>-0.31654</td>\n",
       "      <td>-0.022893</td>\n",
       "      <td>-0.151027</td>\n",
       "      <td>-1.224401</td>\n",
       "      <td>-0.302753</td>\n",
       "      <td>3.189526</td>\n",
       "      <td>-0.506003</td>\n",
       "      <td>...</td>\n",
       "      <td>-0.328839</td>\n",
       "      <td>8.239020</td>\n",
       "      <td>-2.245857</td>\n",
       "      <td>-0.082345</td>\n",
       "      <td>-0.044996</td>\n",
       "      <td>-0.089843</td>\n",
       "      <td>-0.012235</td>\n",
       "      <td>-0.019347</td>\n",
       "      <td>-0.012235</td>\n",
       "      <td>-0.193024</td>\n",
       "    </tr>\n",
       "    <tr>\n",
       "      <th>3</th>\n",
       "      <td>-0.606458</td>\n",
       "      <td>0.583603</td>\n",
       "      <td>-0.502117</td>\n",
       "      <td>-0.31654</td>\n",
       "      <td>-0.022893</td>\n",
       "      <td>-0.151027</td>\n",
       "      <td>0.816726</td>\n",
       "      <td>-0.302753</td>\n",
       "      <td>-0.313526</td>\n",
       "      <td>-0.506003</td>\n",
       "      <td>...</td>\n",
       "      <td>3.041003</td>\n",
       "      <td>-0.121374</td>\n",
       "      <td>-2.245857</td>\n",
       "      <td>-0.082345</td>\n",
       "      <td>-0.044996</td>\n",
       "      <td>-0.089843</td>\n",
       "      <td>-0.012235</td>\n",
       "      <td>-0.019347</td>\n",
       "      <td>-0.012235</td>\n",
       "      <td>-0.193024</td>\n",
       "    </tr>\n",
       "    <tr>\n",
       "      <th>4</th>\n",
       "      <td>-0.942514</td>\n",
       "      <td>0.583603</td>\n",
       "      <td>-0.502117</td>\n",
       "      <td>-0.31654</td>\n",
       "      <td>-0.022893</td>\n",
       "      <td>-0.151027</td>\n",
       "      <td>0.816726</td>\n",
       "      <td>-0.302753</td>\n",
       "      <td>-0.313526</td>\n",
       "      <td>-0.506003</td>\n",
       "      <td>...</td>\n",
       "      <td>3.041003</td>\n",
       "      <td>-0.121374</td>\n",
       "      <td>-2.245857</td>\n",
       "      <td>-0.082345</td>\n",
       "      <td>-0.044996</td>\n",
       "      <td>-0.089843</td>\n",
       "      <td>-0.012235</td>\n",
       "      <td>-0.019347</td>\n",
       "      <td>-0.012235</td>\n",
       "      <td>-0.193024</td>\n",
       "    </tr>\n",
       "  </tbody>\n",
       "</table>\n",
       "<p>5 rows × 39 columns</p>\n",
       "</div>"
      ],
      "text/plain": [
       "   suspect_reported_age  suspect_height  suspect_weight   female  \\\n",
       "0              0.149670       -1.584505        1.959918 -0.31654   \n",
       "1             -0.522443       -1.584505        0.728901 -0.31654   \n",
       "2              2.334039        0.583603        2.575427 -0.31654   \n",
       "3             -0.606458        0.583603       -0.502117 -0.31654   \n",
       "4             -0.942514        0.583603       -0.502117 -0.31654   \n",
       "\n",
       "   Indian/Alaskan Native  Asian / Pacific Islander     Black  Black Hispanic  \\\n",
       "0              -0.022893                 -0.151027  0.816726       -0.302753   \n",
       "1              -0.022893                 -0.151027  0.816726       -0.302753   \n",
       "2              -0.022893                 -0.151027 -1.224401       -0.302753   \n",
       "3              -0.022893                 -0.151027  0.816726       -0.302753   \n",
       "4              -0.022893                 -0.151027  0.816726       -0.302753   \n",
       "\n",
       "      White  White Hispanic  ...  Black Eyes  Blue Eyes  Brown Eyes  \\\n",
       "0 -0.313526       -0.506003  ...   -0.328839  -0.121374    0.445264   \n",
       "1 -0.313526       -0.506003  ...   -0.328839  -0.121374    0.445264   \n",
       "2  3.189526       -0.506003  ...   -0.328839   8.239020   -2.245857   \n",
       "3 -0.313526       -0.506003  ...    3.041003  -0.121374   -2.245857   \n",
       "4 -0.313526       -0.506003  ...    3.041003  -0.121374   -2.245857   \n",
       "\n",
       "   Green Eyes  Gray Eyes  Hazel Eyes  Multicolor Eyes  Other Eyes 4  \\\n",
       "0   -0.082345  -0.044996   -0.089843        -0.012235     -0.019347   \n",
       "1   -0.082345  -0.044996   -0.089843        -0.012235     -0.019347   \n",
       "2   -0.082345  -0.044996   -0.089843        -0.012235     -0.019347   \n",
       "3   -0.082345  -0.044996   -0.089843        -0.012235     -0.019347   \n",
       "4   -0.082345  -0.044996   -0.089843        -0.012235     -0.019347   \n",
       "\n",
       "   Other Eyes 5  Other Eyes 6  \n",
       "0     -0.012235     -0.193024  \n",
       "1     -0.012235     -0.193024  \n",
       "2     -0.012235     -0.193024  \n",
       "3     -0.012235     -0.193024  \n",
       "4     -0.012235     -0.193024  \n",
       "\n",
       "[5 rows x 39 columns]"
      ]
     },
     "execution_count": 3,
     "metadata": {},
     "output_type": "execute_result"
    }
   ],
   "source": [
    "y_raw = sqf['frisked_flag']\n",
    "X_raw = sqf.iloc[:,19:58]\n",
    "data = pd.concat([y_raw, X_raw], axis = 1)\n",
    "\n",
    "# Normalizing to help speed up logistic regression convergence\n",
    "from sklearn.preprocessing import StandardScaler\n",
    "scaler = StandardScaler()\n",
    "scaler.fit(data)\n",
    "data = pd.DataFrame(scaler.transform(data), columns = data.columns)\n",
    "data.head()\n",
    "\n",
    "y = sqf['frisked_flag']\n",
    "X = data.iloc[:,1:]\n",
    "\n",
    "X.head()"
   ]
  },
  {
   "cell_type": "code",
   "execution_count": 4,
   "metadata": {},
   "outputs": [],
   "source": [
    "# BLM\n",
    "np.random.seed(7132013)\n",
    "\n",
    "# split\n",
    "from sklearn.model_selection import train_test_split\n",
    "X_train, X_test, y_train, y_test = train_test_split(X, y, test_size = 0.10)"
   ]
  },
  {
   "cell_type": "markdown",
   "metadata": {},
   "source": [
    "### Logistic Regression Classifier"
   ]
  },
  {
   "cell_type": "code",
   "execution_count": 5,
   "metadata": {},
   "outputs": [
    {
     "name": "stdout",
     "output_type": "stream",
     "text": [
      "Accuracy of logistic regression classifier on test set: 0.61\n"
     ]
    }
   ],
   "source": [
    "from sklearn.linear_model import LogisticRegression\n",
    "\n",
    "log_reg = LogisticRegression()\n",
    "log_reg.fit(X_train, y_train)\n",
    "\n",
    "y_pred = log_reg.predict(X_test)\n",
    "print('Accuracy of logistic regression classifier on test set: {:.2f}'.format(log_reg.score(X_test, y_test)))"
   ]
  },
  {
   "cell_type": "code",
   "execution_count": 12,
   "metadata": {},
   "outputs": [
    {
     "name": "stdout",
     "output_type": "stream",
     "text": [
      "              precision    recall  f1-score   support\n",
      "\n",
      "         0.0       0.66      0.23      0.34       591\n",
      "         1.0       0.60      0.90      0.72       746\n",
      "\n",
      "    accuracy                           0.61      1337\n",
      "   macro avg       0.63      0.57      0.53      1337\n",
      "weighted avg       0.62      0.61      0.55      1337\n",
      "\n"
     ]
    }
   ],
   "source": [
    "from sklearn.metrics import classification_report\n",
    "print(classification_report(y_test, y_pred))"
   ]
  },
  {
   "cell_type": "code",
   "execution_count": 14,
   "metadata": {},
   "outputs": [
    {
     "data": {
      "text/plain": [
       "0.6073298429319371"
      ]
     },
     "execution_count": 14,
     "metadata": {},
     "output_type": "execute_result"
    }
   ],
   "source": [
    "log_reg.score(X_test, y_test)"
   ]
  },
  {
   "cell_type": "markdown",
   "metadata": {},
   "source": [
    "#### Observations\n",
    "\n",
    "What does precision mean in this context? Keep in mind that we are thinking of our machine as a model for an officer in which they are determining if they should frisk a suspect based off their physical appearance. The precision of 0.61 means that of all frisked individuals, our appearance model was able to correctly predict if someone would be frisked based on how they look about 60% of the time. In terms of real-world behavior, this shows that officers are looking at more than just appearance - perhaps they are using their unconscious bias.\n",
    "\n",
    "Overall this leads to a greater discussion about the **fairness of policing**. From a data science and decision theory perspective, we can _consider_ fair policing to mean the following:\n",
    "\n",
    "* each race is equally likely to be frisked (equal positve rates)\n",
    "* each race is equally likely to not be frisked (equal error rates)\n",
    "* each race is equally likely to be frisked on reasonable suspicion, but then no other consequences, say arrest, occurs (equal false positive rates)\n",
    "\n",
    "**However**, policing is not about being fair across races as much as it is meant to keep peace, enforce the laws, and uphold justice. SQF is not fair."
   ]
  },
  {
   "cell_type": "code",
   "execution_count": 7,
   "metadata": {},
   "outputs": [
    {
     "data": {
      "image/png": "[encoded data removed]",
      "text/plain": [
       "<Figure size 432x288 with 1 Axes>"
      ]
     },
     "metadata": {
      "needs_background": "light"
     },
     "output_type": "display_data"
    }
   ],
   "source": [
    "from sklearn.metrics import roc_auc_score\n",
    "from sklearn.metrics import roc_curve\n",
    "log_reg_roc_auc = roc_auc_score(y_test, log_reg.predict(X_test))\n",
    "fpr, tpr, thresholds = roc_curve(y_test, log_reg.predict_proba(X_test)[:,1])\n",
    "plt.figure()\n",
    "plt.plot(fpr, tpr, label='Logistic Regression (area = %0.2f)' % log_reg_roc_auc)\n",
    "plt.plot([0, 1], [0, 1],'r--')\n",
    "plt.xlim([0.0, 1.0])\n",
    "plt.ylim([0.0, 1.05])\n",
    "plt.xlabel('False Positive Rate')\n",
    "plt.ylabel('True Positive Rate')\n",
    "plt.title('Receiver operating characteristic')\n",
    "plt.legend(loc=\"lower right\")\n",
    "plt.savefig('Log_ROC')\n",
    "plt.show()"
   ]
  },
  {
   "cell_type": "code",
   "execution_count": null,
   "metadata": {},
   "outputs": [],
   "source": []
  }
 ],
 "metadata": {
  "kernelspec": {
   "display_name": "Python 3",
   "language": "python",
   "name": "python3"
  },
  "language_info": {
   "codemirror_mode": {
    "name": "ipython",
    "version": 3
   },
   "file_extension": ".py",
   "mimetype": "text/x-python",
   "name": "python",
   "nbconvert_exporter": "python",
   "pygments_lexer": "ipython3",
   "version": "3.7.3"
  }
 },
 "nbformat": 4,
 "nbformat_minor": 2
}
